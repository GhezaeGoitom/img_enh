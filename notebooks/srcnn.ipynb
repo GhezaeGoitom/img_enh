{
  "cells": [
    {
      "cell_type": "code",
      "execution_count": null,
      "metadata": {},
      "outputs": [],
      "source": []
    },
    {
      "cell_type": "code",
      "execution_count": null,
      "metadata": {
        "id": "_xzzteUdNL0y"
      },
      "outputs": [],
      "source": [
        "import os\n",
        "import cv2\n",
        "import h5py\n",
        "import numpy\n",
        "from keras.models import Sequential\n",
        "from keras.layers import Conv2D, Input, BatchNormalization\n",
        "# from keras.layers.advanced_activations import PReLU\n",
        "# from keras.layers.advanced_activations import LeakyReLU\n",
        "from keras.callbacks import ModelCheckpoint\n",
        "from tensorflow.keras.optimizers import SGD,Adam\n",
        "import matplotlib.pyplot as plt\n",
        "import math\n",
        "\n",
        "DATA_PATH = \"/content/drive/MyDrive/MyColab/finaldataset/train/\"\n",
        "TEST_PATH = \"/content/drive/MyDrive/MyColab/finaldataset/test/\"\n",
        "Random_Crop = 30\n",
        "Patch_size = 32\n",
        "label_size = 20\n",
        "conv_side = 6\n",
        "scale = 2\n",
        "# BORDER_CUT = 8\n",
        "BLOCK_STEP = 16\n",
        "BLOCK_SIZE = 32"
      ]
    },
    {
      "cell_type": "code",
      "execution_count": null,
      "metadata": {
        "colab": {
          "base_uri": "https://localhost:8080/"
        },
        "id": "xmOThYLdHfBR",
        "outputId": "5d6cf4a8-afc7-443c-c29a-16af9d015590"
      },
      "outputs": [
        {
          "name": "stdout",
          "output_type": "stream",
          "text": [
            "Drive already mounted at /content/drive; to attempt to forcibly remount, call drive.mount(\"/content/drive\", force_remount=True).\n"
          ]
        }
      ],
      "source": [
        "# mounting google cloud\n",
        "\n",
        "from google.colab import drive\n",
        "drive.mount('/content/drive')"
      ]
    },
    {
      "cell_type": "code",
      "execution_count": null,
      "metadata": {
        "colab": {
          "base_uri": "https://localhost:8080/"
        },
        "id": "AdqlNP9AH792",
        "outputId": "ff34fd4c-6152-4df2-b15d-bcfca1bb70f3"
      },
      "outputs": [
        {
          "name": "stdout",
          "output_type": "stream",
          "text": [
            "Looking in indexes: https://pypi.org/simple, https://us-python.pkg.dev/colab-wheels/public/simple/\n",
            "Requirement already satisfied: pyunpack in /usr/local/lib/python3.7/dist-packages (0.3)\n",
            "Requirement already satisfied: easyprocess in /usr/local/lib/python3.7/dist-packages (from pyunpack) (1.1)\n",
            "Requirement already satisfied: entrypoint2 in /usr/local/lib/python3.7/dist-packages (from pyunpack) (1.1)\n",
            "Looking in indexes: https://pypi.org/simple, https://us-python.pkg.dev/colab-wheels/public/simple/\n",
            "Requirement already satisfied: patool in /usr/local/lib/python3.7/dist-packages (1.12)\n"
          ]
        }
      ],
      "source": [
        "#unrar path\n",
        "rarPath = '/content/drive/MyDrive/MyColab'\n",
        "!pip install pyunpack\n",
        "!pip install patool\n",
        "from pyunpack import Archive\n",
        "Archive(f'{rarPath}/archive.zip').extractall(rarPath)"
      ]
    },
    {
      "cell_type": "code",
      "execution_count": null,
      "metadata": {
        "id": "v5vd0bGOW4fg"
      },
      "outputs": [],
      "source": [
        "#spliting data train and val\n",
        "\n",
        "import os\n",
        "from random import choice\n",
        "import shutil\n",
        "\n",
        "#arrays to store file names\n",
        "imgs =[]\n",
        "\n",
        "#setup dir names\n",
        "imagePath = '/content/drive/MyDrive/MyColab/finaldataset_devops4' # dir where the splitted images is going to be stored\n",
        "crsPath = '/content/drive/MyDrive/MyColab/images/images/' #dir where the original images stored\n",
        "\n",
        "#setup ratio (val ratio = rest of the files in origin dir after splitting into train and test)\n",
        "train_ratio = 0.8\n",
        "test_ratio = 0.2\n",
        "\n",
        "# path for specific paths\n",
        "trainimagePath = f'{imagePath}/train'\n",
        "testimagePath = f'{imagePath}/test'\n",
        "\n",
        "#total count of imgs\n",
        "totalImgCount = len(os.listdir(crsPath))/2\n",
        "\n",
        "#make dir\n",
        "def make_folder(path=\"output\"):\n",
        "    if os.path.exists(path):\n",
        "        shutil.rmtree(path)\n",
        "    os.makedirs(path)\n",
        "    return path\n",
        "\n",
        "trainimagePath = make_folder(trainimagePath)\n",
        "testimagePath = make_folder(testimagePath)"
      ]
    },
    {
      "cell_type": "code",
      "execution_count": null,
      "metadata": {
        "colab": {
          "base_uri": "https://localhost:8080/"
        },
        "id": "Z5PuTsKx7K5U",
        "outputId": "40843c66-358e-4086-ebf1-634db23813e0"
      },
      "outputs": [
        {
          "name": "stdout",
          "output_type": "stream",
          "text": [
            "/content/drive/MyDrive/MyColab/finaldataset_devops4/train\n"
          ]
        }
      ],
      "source": [
        "print(trainimagePath)"
      ]
    },
    {
      "cell_type": "code",
      "execution_count": null,
      "metadata": {
        "id": "X2YpHOCn_2zF"
      },
      "outputs": [],
      "source": [
        "i = 0\n",
        "crsPath = '/content/drive/MyDrive/MyColab/images/images/'\n",
        "for (_, _, files) in os.walk(crsPath):\n",
        "  if i > 20:\n",
        "    break\n",
        "  else:\n",
        "    i= i+1\n"
      ]
    },
    {
      "cell_type": "code",
      "execution_count": null,
      "metadata": {
        "colab": {
          "base_uri": "https://localhost:8080/"
        },
        "id": "kgJwENj8-u7o",
        "outputId": "9ca10c23-68bd-4bd5-aea7-0f3a052a73c7"
      },
      "outputs": [
        {
          "name": "stdout",
          "output_type": "stream",
          "text": [
            "image_2188.jpg\n",
            "image_219.jpg\n",
            "image_2190.jpg\n",
            "image_2191.jpg\n",
            "image_2193.jpg\n",
            "image_2195.jpg\n",
            "image_2196.jpg\n",
            "image_2197.jpg\n",
            "image_2198.jpg\n",
            "image_2199.jpg\n",
            "image_220.jpg\n",
            "image_2201.jpg\n",
            "image_2202.jpg\n",
            "image_2203.jpg\n",
            "image_2204.jpg\n",
            "image_2207.jpg\n",
            "image_2208.jpg\n",
            "image_2209.jpg\n",
            "image_2211.jpg\n",
            "image_2213.jpg\n",
            "image_2214.jpg\n"
          ]
        }
      ],
      "source": [
        "i = 0\n",
        "crsPath = '/content/drive/MyDrive/MyColab/images/images/'\n",
        "for (dirname, dirs, files) in os.walk(crsPath):\n",
        "    for filename in files:\n",
        "            if i > 20:\n",
        "              break\n",
        "            else:\n",
        "              i = i+1  \n",
        "              print(filename)\n"
      ]
    },
    {
      "cell_type": "code",
      "execution_count": null,
      "metadata": {
        "colab": {
          "base_uri": "https://localhost:8080/"
        },
        "id": "ZeEyy98YYFzm",
        "outputId": "4502f3af-8cfb-4452-b139-545ec9ad74bf"
      },
      "outputs": [
        {
          "name": "stdout",
          "output_type": "stream",
          "text": [
            "training images are :  240\n",
            "test images are :  60\n"
          ]
        }
      ],
      "source": [
        "#soring files to corresponding arrays\n",
        "i = 0\n",
        "for (dirname, dirs, files) in os.walk(crsPath):\n",
        "    for filename in files:\n",
        "      # imgs.append(filename)\n",
        "            if i > 300:\n",
        "              break\n",
        "            else:\n",
        "              i = i+1  \n",
        "              imgs.append(filename)\n",
        "\n",
        "\n",
        "#counting range for cycles\n",
        "countForTrain = int(len(imgs)*train_ratio)\n",
        "countFortest = int(len(imgs)*test_ratio)\n",
        "print(\"training images are : \",countForTrain)\n",
        "print(\"test images are : \",countFortest)\n",
        "\n",
        "#cycle for train dir\n",
        "for x in range(countForTrain):\n",
        "\n",
        "    fileJpg = choice(imgs) # get name of random image from origin dir\n",
        "    shutil.copy(os.path.join(crsPath, fileJpg), os.path.join(trainimagePath, fileJpg))\n",
        "\n",
        "      #remove files from arrays\n",
        "    imgs.remove(fileJpg)\n",
        "\n",
        "\n",
        "\n",
        "#cycle for test dir   \n",
        "for x in range(countFortest):\n",
        "\n",
        "    fileJpg = choice(imgs) # get name of random image from origin dir\n",
        "    shutil.copy(os.path.join(crsPath, fileJpg), os.path.join(testimagePath, fileJpg))\n",
        "      \n",
        "      #remove files from arrays\n",
        "    imgs.remove(fileJpg)\n",
        "    \n",
        "#rest of files will be validation files, so rename origin dir to val dir\n",
        "#os.rename(crsPath, valPath)"
      ]
    },
    {
      "cell_type": "code",
      "execution_count": null,
      "metadata": {
        "colab": {
          "base_uri": "https://localhost:8080/"
        },
        "id": "6qxEvw6TRZKI",
        "outputId": "f5d88a74-3be8-4450-ec9f-33570bac0c48"
      },
      "outputs": [
        {
          "name": "stdout",
          "output_type": "stream",
          "text": [
            "2053\n"
          ]
        }
      ],
      "source": [
        "print(1643 + 410)"
      ]
    },
    {
      "cell_type": "code",
      "execution_count": null,
      "metadata": {
        "id": "YOJbzg73I1xi"
      },
      "outputs": [],
      "source": [
        "def prepare_data(_path):\n",
        "    names = os.listdir(_path)\n",
        "    names = sorted(names)\n",
        "    nums = names.__len__()\n",
        "\n",
        "    data = numpy.zeros((nums * Random_Crop, 1, Patch_size, Patch_size), dtype=numpy.double)\n",
        "    label = numpy.zeros((nums * Random_Crop, 1, label_size, label_size), dtype=numpy.double)\n",
        "\n",
        "    for i in range(nums):\n",
        "        name = _path + names[i]\n",
        "        hr_img = cv2.imread(name, cv2.IMREAD_COLOR)\n",
        "        shape = hr_img.shape\n",
        "\n",
        "        hr_img = cv2.cvtColor(hr_img, cv2.COLOR_BGR2YCrCb)\n",
        "        hr_img = hr_img[:, :, 0]\n",
        "\n",
        "        # two resize operation to produce training data and labels\n",
        "        lr_img = cv2.resize(hr_img, (int(shape[1] / scale), int(shape[0] / scale)))\n",
        "        lr_img = cv2.resize(lr_img, (shape[1], shape[0]))\n",
        "\n",
        "        # produce Random_Crop random coordinate to crop training img\n",
        "        Points_x = numpy.random.randint(0, min(shape[0], shape[1]) - Patch_size, Random_Crop)\n",
        "        Points_y = numpy.random.randint(0, min(shape[0], shape[1]) - Patch_size, Random_Crop)\n",
        "\n",
        "        for j in range(Random_Crop):\n",
        "            lr_patch = lr_img[Points_x[j]: Points_x[j] + Patch_size, Points_y[j]: Points_y[j] + Patch_size]\n",
        "            hr_patch = hr_img[Points_x[j]: Points_x[j] + Patch_size, Points_y[j]: Points_y[j] + Patch_size]\n",
        "\n",
        "            lr_patch = lr_patch.astype(float) / 255.\n",
        "            hr_patch = hr_patch.astype(float) / 255.\n",
        "\n",
        "            data[i * Random_Crop + j, 0, :, :] = lr_patch\n",
        "            label[i * Random_Crop + j, 0, :, :] = hr_patch[conv_side: -conv_side, conv_side: -conv_side]\n",
        "            # cv2.imshow(\"lr\", lr_patch)\n",
        "            # cv2.imshow(\"hr\", hr_patch)\n",
        "            # cv2.waitKey(0)\n",
        "    return data, label"
      ]
    },
    {
      "cell_type": "code",
      "execution_count": null,
      "metadata": {
        "id": "_DuAbLwwNjjb"
      },
      "outputs": [],
      "source": [
        "def prepare_crop_data(_path):\n",
        "    names = os.listdir(_path)\n",
        "    names = sorted(names)\n",
        "    nums = names.__len__()\n",
        "\n",
        "    data = []\n",
        "    label = []\n",
        "\n",
        "    for i in range(nums):\n",
        "        name = _path + names[i]\n",
        "        print(name)\n",
        "        hr_img = cv2.imread(name, cv2.IMREAD_COLOR)\n",
        "        hr_img = cv2.cvtColor(hr_img, cv2.COLOR_BGR2YCrCb)\n",
        "        hr_img = hr_img[:, :, 0]\n",
        "        shape = hr_img.shape\n",
        "\n",
        "        # two resize operation to produce training data and labels\n",
        "        lr_img = cv2.resize(hr_img, (int(shape[1] / scale), int(shape[0] / scale)))\n",
        "        lr_img = cv2.resize(lr_img, (shape[1], shape[0]))\n",
        "\n",
        "        width_num = int((shape[0] - (BLOCK_SIZE - BLOCK_STEP) * 2) / BLOCK_STEP)\n",
        "        height_num = int((shape[1] - (BLOCK_SIZE - BLOCK_STEP) * 2) / BLOCK_STEP)\n",
        "        for k in range(width_num):\n",
        "            for j in range(height_num):\n",
        "                x = k * BLOCK_STEP\n",
        "                y = j * BLOCK_STEP\n",
        "                hr_patch = hr_img[x: x + BLOCK_SIZE, y: y + BLOCK_SIZE]\n",
        "                lr_patch = lr_img[x: x + BLOCK_SIZE, y: y + BLOCK_SIZE]\n",
        "\n",
        "                lr_patch = lr_patch.astype(float) / 255.\n",
        "                hr_patch = hr_patch.astype(float) / 255.\n",
        "\n",
        "                lr = numpy.zeros((1, Patch_size, Patch_size), dtype=numpy.double)\n",
        "                hr = numpy.zeros((1, label_size, label_size), dtype=numpy.double)\n",
        "\n",
        "                lr[0, :, :] = lr_patch\n",
        "                hr[0, :, :] = hr_patch[conv_side: -conv_side, conv_side: -conv_side]\n",
        "\n",
        "                data.append(lr)\n",
        "                label.append(hr)\n",
        "\n",
        "    data = numpy.array(data, dtype=float)\n",
        "    label = numpy.array(label, dtype=float)\n",
        "    return data, label"
      ]
    },
    {
      "cell_type": "code",
      "execution_count": null,
      "metadata": {
        "id": "Kp3ad0hdNuA8"
      },
      "outputs": [],
      "source": [
        "def write_hdf5(data, labels, output_filename):\n",
        "    \"\"\"\n",
        "    This function is used to save image data and its label(s) to hdf5 file.\n",
        "    output_file.h5,contain data and label\n",
        "    \"\"\"\n",
        "\n",
        "    x = data.astype(numpy.float32)\n",
        "    y = labels.astype(numpy.float32)\n",
        "\n",
        "    with h5py.File(output_filename, 'w') as h:\n",
        "        h.create_dataset('data', data=x, shape=x.shape)\n",
        "        h.create_dataset('label', data=y, shape=y.shape)\n",
        "        # h.create_dataset()\n"
      ]
    },
    {
      "cell_type": "code",
      "execution_count": null,
      "metadata": {
        "id": "cYU-jvdrNvNO"
      },
      "outputs": [],
      "source": [
        "def read_training_data(file):\n",
        "    with h5py.File(file, 'r') as hf:\n",
        "        data = numpy.array(hf.get('data'))\n",
        "        label = numpy.array(hf.get('label'))\n",
        "        train_data = numpy.transpose(data, (0, 2, 3, 1))\n",
        "        train_label = numpy.transpose(label, (0, 2, 3, 1))\n",
        "        return train_data, train_label"
      ]
    },
    {
      "cell_type": "code",
      "execution_count": null,
      "metadata": {
        "colab": {
          "base_uri": "https://localhost:8080/"
        },
        "id": "1vwEPtleOPJQ",
        "outputId": "e5b77203-424b-40dc-dd22-0c241f052897"
      },
      "outputs": [
        {
          "name": "stdout",
          "output_type": "stream",
          "text": [
            "/content/drive/MyDrive/MyColab/finaldataset_devops4/train/image_2188.jpg\n",
            "/content/drive/MyDrive/MyColab/finaldataset_devops4/train/image_219.jpg\n",
            "/content/drive/MyDrive/MyColab/finaldataset_devops4/train/image_2190.jpg\n",
            "/content/drive/MyDrive/MyColab/finaldataset_devops4/train/image_2191.jpg\n",
            "/content/drive/MyDrive/MyColab/finaldataset_devops4/train/image_2195.jpg\n",
            "/content/drive/MyDrive/MyColab/finaldataset_devops4/train/image_2196.jpg\n",
            "/content/drive/MyDrive/MyColab/finaldataset_devops4/train/image_2197.jpg\n",
            "/content/drive/MyDrive/MyColab/finaldataset_devops4/train/image_2198.jpg\n",
            "/content/drive/MyDrive/MyColab/finaldataset_devops4/train/image_2199.jpg\n",
            "/content/drive/MyDrive/MyColab/finaldataset_devops4/train/image_220.jpg\n",
            "/content/drive/MyDrive/MyColab/finaldataset_devops4/train/image_2201.jpg\n",
            "/content/drive/MyDrive/MyColab/finaldataset_devops4/train/image_2202.jpg\n",
            "/content/drive/MyDrive/MyColab/finaldataset_devops4/train/image_2203.jpg\n",
            "/content/drive/MyDrive/MyColab/finaldataset_devops4/train/image_2204.jpg\n",
            "/content/drive/MyDrive/MyColab/finaldataset_devops4/train/image_2207.jpg\n",
            "/content/drive/MyDrive/MyColab/finaldataset_devops4/train/image_2208.jpg\n",
            "/content/drive/MyDrive/MyColab/finaldataset_devops4/train/image_2209.jpg\n",
            "/content/drive/MyDrive/MyColab/finaldataset_devops4/train/image_2211.jpg\n",
            "/content/drive/MyDrive/MyColab/finaldataset_devops4/train/image_2213.jpg\n",
            "/content/drive/MyDrive/MyColab/finaldataset_devops4/train/image_2216.jpg\n",
            "/content/drive/MyDrive/MyColab/finaldataset_devops4/train/image_2217.jpg\n",
            "/content/drive/MyDrive/MyColab/finaldataset_devops4/train/image_2219.jpg\n",
            "/content/drive/MyDrive/MyColab/finaldataset_devops4/train/image_222.jpg\n",
            "/content/drive/MyDrive/MyColab/finaldataset_devops4/train/image_2221.jpg\n",
            "/content/drive/MyDrive/MyColab/finaldataset_devops4/train/image_2223.jpg\n",
            "/content/drive/MyDrive/MyColab/finaldataset_devops4/train/image_2224.jpg\n",
            "/content/drive/MyDrive/MyColab/finaldataset_devops4/train/image_2226.jpg\n",
            "/content/drive/MyDrive/MyColab/finaldataset_devops4/train/image_2228.jpg\n",
            "/content/drive/MyDrive/MyColab/finaldataset_devops4/train/image_223.jpg\n",
            "/content/drive/MyDrive/MyColab/finaldataset_devops4/train/image_2230.jpg\n",
            "/content/drive/MyDrive/MyColab/finaldataset_devops4/train/image_2231.jpg\n",
            "/content/drive/MyDrive/MyColab/finaldataset_devops4/train/image_2232.jpg\n",
            "/content/drive/MyDrive/MyColab/finaldataset_devops4/train/image_2234.jpg\n",
            "/content/drive/MyDrive/MyColab/finaldataset_devops4/train/image_2235.jpg\n",
            "/content/drive/MyDrive/MyColab/finaldataset_devops4/train/image_2238.jpg\n",
            "/content/drive/MyDrive/MyColab/finaldataset_devops4/train/image_224.jpg\n",
            "/content/drive/MyDrive/MyColab/finaldataset_devops4/train/image_2242.jpg\n",
            "/content/drive/MyDrive/MyColab/finaldataset_devops4/train/image_2244.jpg\n",
            "/content/drive/MyDrive/MyColab/finaldataset_devops4/train/image_2245.jpg\n",
            "/content/drive/MyDrive/MyColab/finaldataset_devops4/train/image_2247.jpg\n",
            "/content/drive/MyDrive/MyColab/finaldataset_devops4/train/image_2248.jpg\n",
            "/content/drive/MyDrive/MyColab/finaldataset_devops4/train/image_2249.jpg\n",
            "/content/drive/MyDrive/MyColab/finaldataset_devops4/train/image_2250.jpg\n",
            "/content/drive/MyDrive/MyColab/finaldataset_devops4/train/image_2251.jpg\n",
            "/content/drive/MyDrive/MyColab/finaldataset_devops4/train/image_2252.jpg\n",
            "/content/drive/MyDrive/MyColab/finaldataset_devops4/train/image_2253.jpg\n",
            "/content/drive/MyDrive/MyColab/finaldataset_devops4/train/image_2254.jpg\n",
            "/content/drive/MyDrive/MyColab/finaldataset_devops4/train/image_2256.jpg\n",
            "/content/drive/MyDrive/MyColab/finaldataset_devops4/train/image_2257.jpg\n",
            "/content/drive/MyDrive/MyColab/finaldataset_devops4/train/image_2258.jpg\n",
            "/content/drive/MyDrive/MyColab/finaldataset_devops4/train/image_2260.jpg\n",
            "/content/drive/MyDrive/MyColab/finaldataset_devops4/train/image_2263.jpg\n",
            "/content/drive/MyDrive/MyColab/finaldataset_devops4/train/image_2264.jpg\n",
            "/content/drive/MyDrive/MyColab/finaldataset_devops4/train/image_2266.jpg\n",
            "/content/drive/MyDrive/MyColab/finaldataset_devops4/train/image_2267.jpg\n",
            "/content/drive/MyDrive/MyColab/finaldataset_devops4/train/image_2268.jpg\n",
            "/content/drive/MyDrive/MyColab/finaldataset_devops4/train/image_2271.jpg\n",
            "/content/drive/MyDrive/MyColab/finaldataset_devops4/train/image_2272.jpg\n",
            "/content/drive/MyDrive/MyColab/finaldataset_devops4/train/image_2273.jpg\n",
            "/content/drive/MyDrive/MyColab/finaldataset_devops4/train/image_2274.jpg\n",
            "/content/drive/MyDrive/MyColab/finaldataset_devops4/train/image_2276.jpg\n",
            "/content/drive/MyDrive/MyColab/finaldataset_devops4/train/image_2278.jpg\n",
            "/content/drive/MyDrive/MyColab/finaldataset_devops4/train/image_2279.jpg\n",
            "/content/drive/MyDrive/MyColab/finaldataset_devops4/train/image_2280.jpg\n",
            "/content/drive/MyDrive/MyColab/finaldataset_devops4/train/image_2281.jpg\n",
            "/content/drive/MyDrive/MyColab/finaldataset_devops4/train/image_2284.jpg\n",
            "/content/drive/MyDrive/MyColab/finaldataset_devops4/train/image_2285.jpg\n",
            "/content/drive/MyDrive/MyColab/finaldataset_devops4/train/image_2286.jpg\n",
            "/content/drive/MyDrive/MyColab/finaldataset_devops4/train/image_2288.jpg\n",
            "/content/drive/MyDrive/MyColab/finaldataset_devops4/train/image_2290.jpg\n",
            "/content/drive/MyDrive/MyColab/finaldataset_devops4/train/image_2291.jpg\n",
            "/content/drive/MyDrive/MyColab/finaldataset_devops4/train/image_2293.jpg\n",
            "/content/drive/MyDrive/MyColab/finaldataset_devops4/train/image_2294.jpg\n",
            "/content/drive/MyDrive/MyColab/finaldataset_devops4/train/image_2295.jpg\n",
            "/content/drive/MyDrive/MyColab/finaldataset_devops4/train/image_2296.jpg\n",
            "/content/drive/MyDrive/MyColab/finaldataset_devops4/train/image_2298.jpg\n",
            "/content/drive/MyDrive/MyColab/finaldataset_devops4/train/image_2299.jpg\n",
            "/content/drive/MyDrive/MyColab/finaldataset_devops4/train/image_23.jpg\n",
            "/content/drive/MyDrive/MyColab/finaldataset_devops4/train/image_230.jpg\n",
            "/content/drive/MyDrive/MyColab/finaldataset_devops4/train/image_2301.jpg\n",
            "/content/drive/MyDrive/MyColab/finaldataset_devops4/train/image_2308.jpg\n",
            "/content/drive/MyDrive/MyColab/finaldataset_devops4/train/image_231.jpg\n",
            "/content/drive/MyDrive/MyColab/finaldataset_devops4/train/image_2310.jpg\n",
            "/content/drive/MyDrive/MyColab/finaldataset_devops4/train/image_2314.jpg\n",
            "/content/drive/MyDrive/MyColab/finaldataset_devops4/train/image_2315.jpg\n",
            "/content/drive/MyDrive/MyColab/finaldataset_devops4/train/image_2318.jpg\n",
            "/content/drive/MyDrive/MyColab/finaldataset_devops4/train/image_2319.jpg\n",
            "/content/drive/MyDrive/MyColab/finaldataset_devops4/train/image_232.jpg\n",
            "/content/drive/MyDrive/MyColab/finaldataset_devops4/train/image_2320.jpg\n",
            "/content/drive/MyDrive/MyColab/finaldataset_devops4/train/image_2323.jpg\n",
            "/content/drive/MyDrive/MyColab/finaldataset_devops4/train/image_2324.jpg\n",
            "/content/drive/MyDrive/MyColab/finaldataset_devops4/train/image_2327.jpg\n",
            "/content/drive/MyDrive/MyColab/finaldataset_devops4/train/image_2329.jpg\n",
            "/content/drive/MyDrive/MyColab/finaldataset_devops4/train/image_2333.jpg\n",
            "/content/drive/MyDrive/MyColab/finaldataset_devops4/train/image_2334.jpg\n",
            "/content/drive/MyDrive/MyColab/finaldataset_devops4/train/image_2335.jpg\n",
            "/content/drive/MyDrive/MyColab/finaldataset_devops4/train/image_2336.jpg\n",
            "/content/drive/MyDrive/MyColab/finaldataset_devops4/train/image_234.jpg\n",
            "/content/drive/MyDrive/MyColab/finaldataset_devops4/train/image_2340.jpg\n",
            "/content/drive/MyDrive/MyColab/finaldataset_devops4/train/image_2341.jpg\n",
            "/content/drive/MyDrive/MyColab/finaldataset_devops4/train/image_2343.jpg\n",
            "/content/drive/MyDrive/MyColab/finaldataset_devops4/train/image_2344.jpg\n",
            "/content/drive/MyDrive/MyColab/finaldataset_devops4/train/image_2347.jpg\n",
            "/content/drive/MyDrive/MyColab/finaldataset_devops4/train/image_235.jpg\n",
            "/content/drive/MyDrive/MyColab/finaldataset_devops4/train/image_2353.jpg\n",
            "/content/drive/MyDrive/MyColab/finaldataset_devops4/train/image_2355.jpg\n",
            "/content/drive/MyDrive/MyColab/finaldataset_devops4/train/image_2356.jpg\n",
            "/content/drive/MyDrive/MyColab/finaldataset_devops4/train/image_2357.jpg\n",
            "/content/drive/MyDrive/MyColab/finaldataset_devops4/train/image_2359.jpg\n",
            "/content/drive/MyDrive/MyColab/finaldataset_devops4/train/image_236.jpg\n",
            "/content/drive/MyDrive/MyColab/finaldataset_devops4/train/image_2361.jpg\n",
            "/content/drive/MyDrive/MyColab/finaldataset_devops4/train/image_2362.jpg\n",
            "/content/drive/MyDrive/MyColab/finaldataset_devops4/train/image_2365.jpg\n",
            "/content/drive/MyDrive/MyColab/finaldataset_devops4/train/image_2366.jpg\n",
            "/content/drive/MyDrive/MyColab/finaldataset_devops4/train/image_2367.jpg\n",
            "/content/drive/MyDrive/MyColab/finaldataset_devops4/train/image_2368.jpg\n",
            "/content/drive/MyDrive/MyColab/finaldataset_devops4/train/image_2369.jpg\n",
            "/content/drive/MyDrive/MyColab/finaldataset_devops4/train/image_237.jpg\n",
            "/content/drive/MyDrive/MyColab/finaldataset_devops4/train/image_2371.jpg\n",
            "/content/drive/MyDrive/MyColab/finaldataset_devops4/train/image_2372.jpg\n",
            "/content/drive/MyDrive/MyColab/finaldataset_devops4/train/image_2373.jpg\n",
            "/content/drive/MyDrive/MyColab/finaldataset_devops4/train/image_2374.jpg\n",
            "/content/drive/MyDrive/MyColab/finaldataset_devops4/train/image_2377.jpg\n",
            "/content/drive/MyDrive/MyColab/finaldataset_devops4/train/image_2380.jpg\n",
            "/content/drive/MyDrive/MyColab/finaldataset_devops4/train/image_2381.jpg\n",
            "/content/drive/MyDrive/MyColab/finaldataset_devops4/train/image_2383.jpg\n",
            "/content/drive/MyDrive/MyColab/finaldataset_devops4/train/image_2384.jpg\n",
            "/content/drive/MyDrive/MyColab/finaldataset_devops4/train/image_2388.jpg\n",
            "/content/drive/MyDrive/MyColab/finaldataset_devops4/train/image_2390.jpg\n",
            "/content/drive/MyDrive/MyColab/finaldataset_devops4/train/image_2393.jpg\n",
            "/content/drive/MyDrive/MyColab/finaldataset_devops4/train/image_2394.jpg\n",
            "/content/drive/MyDrive/MyColab/finaldataset_devops4/train/image_2395.jpg\n",
            "/content/drive/MyDrive/MyColab/finaldataset_devops4/train/image_2396.jpg\n",
            "/content/drive/MyDrive/MyColab/finaldataset_devops4/train/image_2397.jpg\n",
            "/content/drive/MyDrive/MyColab/finaldataset_devops4/train/image_2398.jpg\n",
            "/content/drive/MyDrive/MyColab/finaldataset_devops4/train/image_2399.jpg\n",
            "/content/drive/MyDrive/MyColab/finaldataset_devops4/train/image_240.jpg\n",
            "/content/drive/MyDrive/MyColab/finaldataset_devops4/train/image_2400.jpg\n",
            "/content/drive/MyDrive/MyColab/finaldataset_devops4/train/image_2402.jpg\n",
            "/content/drive/MyDrive/MyColab/finaldataset_devops4/train/image_2403.jpg\n",
            "/content/drive/MyDrive/MyColab/finaldataset_devops4/train/image_2404.jpg\n",
            "/content/drive/MyDrive/MyColab/finaldataset_devops4/train/image_2405.jpg\n",
            "/content/drive/MyDrive/MyColab/finaldataset_devops4/train/image_241.jpg\n",
            "/content/drive/MyDrive/MyColab/finaldataset_devops4/train/image_2410.jpg\n",
            "/content/drive/MyDrive/MyColab/finaldataset_devops4/train/image_2411.jpg\n",
            "/content/drive/MyDrive/MyColab/finaldataset_devops4/train/image_2412.jpg\n",
            "/content/drive/MyDrive/MyColab/finaldataset_devops4/train/image_2414.jpg\n",
            "/content/drive/MyDrive/MyColab/finaldataset_devops4/train/image_2415.jpg\n",
            "/content/drive/MyDrive/MyColab/finaldataset_devops4/train/image_2416.jpg\n",
            "/content/drive/MyDrive/MyColab/finaldataset_devops4/train/image_2417.jpg\n",
            "/content/drive/MyDrive/MyColab/finaldataset_devops4/train/image_2418.jpg\n",
            "/content/drive/MyDrive/MyColab/finaldataset_devops4/train/image_2419.jpg\n",
            "/content/drive/MyDrive/MyColab/finaldataset_devops4/train/image_242.jpg\n",
            "/content/drive/MyDrive/MyColab/finaldataset_devops4/train/image_2421.jpg\n",
            "/content/drive/MyDrive/MyColab/finaldataset_devops4/train/image_2422.jpg\n",
            "/content/drive/MyDrive/MyColab/finaldataset_devops4/train/image_2423.jpg\n",
            "/content/drive/MyDrive/MyColab/finaldataset_devops4/train/image_2425.jpg\n",
            "/content/drive/MyDrive/MyColab/finaldataset_devops4/train/image_2427.jpg\n",
            "/content/drive/MyDrive/MyColab/finaldataset_devops4/train/image_2428.jpg\n",
            "/content/drive/MyDrive/MyColab/finaldataset_devops4/train/image_243.jpg\n",
            "/content/drive/MyDrive/MyColab/finaldataset_devops4/train/image_2430.jpg\n",
            "/content/drive/MyDrive/MyColab/finaldataset_devops4/train/image_2431.jpg\n",
            "/content/drive/MyDrive/MyColab/finaldataset_devops4/train/image_2434.jpg\n",
            "/content/drive/MyDrive/MyColab/finaldataset_devops4/train/image_2436.jpg\n",
            "/content/drive/MyDrive/MyColab/finaldataset_devops4/train/image_244.jpg\n",
            "/content/drive/MyDrive/MyColab/finaldataset_devops4/train/image_2441.jpg\n",
            "/content/drive/MyDrive/MyColab/finaldataset_devops4/train/image_2443.jpg\n",
            "/content/drive/MyDrive/MyColab/finaldataset_devops4/train/image_2447.jpg\n",
            "/content/drive/MyDrive/MyColab/finaldataset_devops4/train/image_2450.jpg\n",
            "/content/drive/MyDrive/MyColab/finaldataset_devops4/train/image_2453.jpg\n",
            "/content/drive/MyDrive/MyColab/finaldataset_devops4/train/image_2454.jpg\n",
            "/content/drive/MyDrive/MyColab/finaldataset_devops4/train/image_2456.jpg\n",
            "/content/drive/MyDrive/MyColab/finaldataset_devops4/train/image_246.jpg\n",
            "/content/drive/MyDrive/MyColab/finaldataset_devops4/train/image_2460.jpg\n",
            "/content/drive/MyDrive/MyColab/finaldataset_devops4/train/image_2461.jpg\n",
            "/content/drive/MyDrive/MyColab/finaldataset_devops4/train/image_2463.jpg\n",
            "/content/drive/MyDrive/MyColab/finaldataset_devops4/train/image_2466.jpg\n",
            "/content/drive/MyDrive/MyColab/finaldataset_devops4/train/image_2467.jpg\n",
            "/content/drive/MyDrive/MyColab/finaldataset_devops4/train/image_2468.jpg\n",
            "/content/drive/MyDrive/MyColab/finaldataset_devops4/train/image_247.jpg\n",
            "/content/drive/MyDrive/MyColab/finaldataset_devops4/train/image_2470.jpg\n",
            "/content/drive/MyDrive/MyColab/finaldataset_devops4/train/image_2471.jpg\n",
            "/content/drive/MyDrive/MyColab/finaldataset_devops4/train/image_2472.jpg\n",
            "/content/drive/MyDrive/MyColab/finaldataset_devops4/train/image_2473.jpg\n",
            "/content/drive/MyDrive/MyColab/finaldataset_devops4/train/image_2474.jpg\n",
            "/content/drive/MyDrive/MyColab/finaldataset_devops4/train/image_2475.jpg\n",
            "/content/drive/MyDrive/MyColab/finaldataset_devops4/train/image_2477.jpg\n",
            "/content/drive/MyDrive/MyColab/finaldataset_devops4/train/image_2478.jpg\n",
            "/content/drive/MyDrive/MyColab/finaldataset_devops4/train/image_248.jpg\n",
            "/content/drive/MyDrive/MyColab/finaldataset_devops4/train/image_2480.jpg\n",
            "/content/drive/MyDrive/MyColab/finaldataset_devops4/train/image_2483.jpg\n",
            "/content/drive/MyDrive/MyColab/finaldataset_devops4/train/image_2485.jpg\n",
            "/content/drive/MyDrive/MyColab/finaldataset_devops4/train/image_2486.jpg\n",
            "/content/drive/MyDrive/MyColab/finaldataset_devops4/train/image_2488.jpg\n",
            "/content/drive/MyDrive/MyColab/finaldataset_devops4/train/image_2489.jpg\n",
            "/content/drive/MyDrive/MyColab/finaldataset_devops4/train/image_249.jpg\n",
            "/content/drive/MyDrive/MyColab/finaldataset_devops4/train/image_2490.jpg\n",
            "/content/drive/MyDrive/MyColab/finaldataset_devops4/train/image_2492.jpg\n",
            "/content/drive/MyDrive/MyColab/finaldataset_devops4/train/image_2493.jpg\n",
            "/content/drive/MyDrive/MyColab/finaldataset_devops4/train/image_2494.jpg\n",
            "/content/drive/MyDrive/MyColab/finaldataset_devops4/train/image_2495.jpg\n",
            "/content/drive/MyDrive/MyColab/finaldataset_devops4/train/image_2497.jpg\n",
            "/content/drive/MyDrive/MyColab/finaldataset_devops4/train/image_2499.jpg\n",
            "/content/drive/MyDrive/MyColab/finaldataset_devops4/train/image_25.jpg\n",
            "/content/drive/MyDrive/MyColab/finaldataset_devops4/train/image_2500.jpg\n",
            "/content/drive/MyDrive/MyColab/finaldataset_devops4/train/image_251.jpg\n",
            "/content/drive/MyDrive/MyColab/finaldataset_devops4/train/image_252.jpg\n",
            "/content/drive/MyDrive/MyColab/finaldataset_devops4/train/image_254.jpg\n",
            "/content/drive/MyDrive/MyColab/finaldataset_devops4/train/image_255.jpg\n",
            "/content/drive/MyDrive/MyColab/finaldataset_devops4/train/image_256.jpg\n",
            "/content/drive/MyDrive/MyColab/finaldataset_devops4/train/image_257.jpg\n",
            "/content/drive/MyDrive/MyColab/finaldataset_devops4/train/image_258.jpg\n",
            "/content/drive/MyDrive/MyColab/finaldataset_devops4/train/image_26.jpg\n",
            "/content/drive/MyDrive/MyColab/finaldataset_devops4/train/image_260.jpg\n",
            "/content/drive/MyDrive/MyColab/finaldataset_devops4/train/image_261.jpg\n",
            "/content/drive/MyDrive/MyColab/finaldataset_devops4/train/image_262.jpg\n",
            "/content/drive/MyDrive/MyColab/finaldataset_devops4/train/image_263.jpg\n",
            "/content/drive/MyDrive/MyColab/finaldataset_devops4/train/image_265.jpg\n",
            "/content/drive/MyDrive/MyColab/finaldataset_devops4/train/image_266.jpg\n",
            "/content/drive/MyDrive/MyColab/finaldataset_devops4/train/image_267.jpg\n",
            "/content/drive/MyDrive/MyColab/finaldataset_devops4/train/image_268.jpg\n",
            "/content/drive/MyDrive/MyColab/finaldataset_devops4/train/image_27.jpg\n",
            "/content/drive/MyDrive/MyColab/finaldataset_devops4/train/image_270.jpg\n",
            "/content/drive/MyDrive/MyColab/finaldataset_devops4/train/image_271.jpg\n",
            "/content/drive/MyDrive/MyColab/finaldataset_devops4/train/image_273.jpg\n",
            "/content/drive/MyDrive/MyColab/finaldataset_devops4/train/image_274.jpg\n",
            "/content/drive/MyDrive/MyColab/finaldataset_devops4/train/image_275.jpg\n",
            "/content/drive/MyDrive/MyColab/finaldataset_devops4/train/image_277.jpg\n",
            "/content/drive/MyDrive/MyColab/finaldataset_devops4/train/image_278.jpg\n",
            "/content/drive/MyDrive/MyColab/finaldataset_devops4/train/image_279.jpg\n",
            "/content/drive/MyDrive/MyColab/finaldataset_devops4/train/image_28.jpg\n",
            "/content/drive/MyDrive/MyColab/finaldataset_devops4/train/image_280.jpg\n",
            "/content/drive/MyDrive/MyColab/finaldataset_devops4/train/image_281.jpg\n",
            "/content/drive/MyDrive/MyColab/finaldataset_devops4/train/image_283.jpg\n",
            "/content/drive/MyDrive/MyColab/finaldataset_devops4/train/image_284.jpg\n",
            "/content/drive/MyDrive/MyColab/finaldataset_devops4/train/image_285.jpg\n",
            "/content/drive/MyDrive/MyColab/finaldataset_devops4/train/image_286.jpg\n",
            "/content/drive/MyDrive/MyColab/finaldataset_devops4/train/image_288.jpg\n",
            "/content/drive/MyDrive/MyColab/finaldataset_devops4/train/image_289.jpg\n",
            "/content/drive/MyDrive/MyColab/finaldataset_devops4/train/image_29.jpg\n"
          ]
        }
      ],
      "source": [
        "################### performing preparation for training and testing dataset######################################\n",
        "trainz = \"/content/drive/MyDrive/MyColab/finaldataset_devops4/train/\"\n",
        "testz = \"/content/drive/MyDrive/MyColab/finaldataset_devops4/test/\"\n",
        "data, label = prepare_crop_data(trainz)\n",
        "write_hdf5(data, label, \"/content/drive/MyDrive/MyColab/train4.h5\")\n",
        "data, label = prepare_data(testz)\n",
        "write_hdf5(data, label, \"/content/drive/MyDrive/MyColab/test4.h5\")"
      ]
    },
    {
      "cell_type": "code",
      "execution_count": null,
      "metadata": {
        "id": "6Q1nDaYkPE3u"
      },
      "outputs": [],
      "source": [
        "################# SRCNN #################################### "
      ]
    },
    {
      "cell_type": "code",
      "execution_count": null,
      "metadata": {
        "id": "gQxJZS66PnzG"
      },
      "outputs": [],
      "source": [
        "def psnr(target, ref):\n",
        "    # assume RGB image\n",
        "    target_data = numpy.array(target, dtype=float)\n",
        "    ref_data = numpy.array(ref, dtype=float)\n",
        "\n",
        "    diff = ref_data - target_data\n",
        "    diff = diff.flatten('C')\n",
        "\n",
        "    rmse = math.sqrt(numpy.mean(diff ** 2.))\n",
        "\n",
        "    return 20 * math.log10(255. / rmse)\n"
      ]
    },
    {
      "cell_type": "code",
      "execution_count": null,
      "metadata": {
        "id": "GLmIKh0TVXXy"
      },
      "outputs": [],
      "source": [
        "# prelu\n",
        "def model():\n",
        "    # lrelu = LeakyReLU(alpha=0.1)\n",
        "    SRCNN = Sequential()\n",
        "    SRCNN.add(Conv2D(filters=128, kernel_size=(9,9), kernel_initializer='glorot_uniform', padding='valid', use_bias=True, input_shape=(32, 32, 1)))\n",
        "    SRCNN.add(PReLU())\n",
        "    SRCNN.add(Conv2D(filters=64, kernel_size=(3,3), kernel_initializer='glorot_uniform', padding='same', use_bias=True))\n",
        "    SRCNN.add(PReLU())\n",
        "    SRCNN.add(Conv2D(filters=1, kernel_size=(5,5), kernel_initializer='glorot_uniform', padding='valid', use_bias=True))\n",
        "    SRCNN.add(PReLU())\n",
        "    adam = Adam(lr=0.0003)\n",
        "    SRCNN.compile(optimizer=adam, loss='mean_squared_error', metrics=['accuracy'])\n",
        "    return SRCNN"
      ]
    },
    {
      "cell_type": "code",
      "execution_count": null,
      "metadata": {
        "id": "g6o4Khfo0mfy"
      },
      "outputs": [],
      "source": [
        "#relu\n",
        "def model():\n",
        "    # lrelu = LeakyReLU(alpha=0.1)\n",
        "    SRCNN = Sequential()\n",
        "    SRCNN.add(Conv2D(filters=128, kernel_size=(9,9), kernel_initializer='glorot_uniform',\n",
        "                     activation='relu', padding='valid', use_bias=True, input_shape=(32, 32, 1)))\n",
        "    SRCNN.add(Conv2D(filters=64, kernel_size=(5,5), kernel_initializer='glorot_uniform',\n",
        "                     activation='relu', padding='same', use_bias=True))\n",
        "    SRCNN.add(Conv2D(filters=64, kernel_size=(5,5), kernel_initializer='glorot_uniform',\n",
        "                     activation='relu', padding='same', use_bias=True))\n",
        "    SRCNN.add(Conv2D(filters=64, kernel_size=(5,5), kernel_initializer='glorot_uniform',\n",
        "                     activation='relu', padding='same', use_bias=True))\n",
        "    SRCNN.add(Conv2D(filters=64, kernel_size=(1,1), kernel_initializer='glorot_uniform',\n",
        "                     activation='relu', padding='same', use_bias=True))\n",
        "    SRCNN.add(Conv2D(filters=1, kernel_size=(5,5), kernel_initializer='glorot_uniform',\n",
        "                     activation='linear', padding='valid', use_bias=True))\n",
        "    adam = Adam(lr=0.0003)\n",
        "    SRCNN.compile(optimizer=adam, loss='mean_squared_error', metrics=['accuracy'])\n",
        "    return SRCNN"
      ]
    },
    {
      "cell_type": "code",
      "execution_count": null,
      "metadata": {
        "id": "z7NV4LTIQNzJ"
      },
      "outputs": [],
      "source": [
        "# relu\n",
        "def predict_model():\n",
        "    # lrelu = LeakyReLU(alpha=0.1)\n",
        "    SRCNN = Sequential()\n",
        "    SRCNN.add(Conv2D(filters=128, kernel_size=(9,9), kernel_initializer='glorot_uniform',\n",
        "                     activation='relu', padding='valid', use_bias=True, input_shape=(None, None, 1)))\n",
        "    SRCNN.add(Conv2D(filters=64, kernel_size=(5,5), kernel_initializer='glorot_uniform',\n",
        "                     activation='relu', padding='same', use_bias=True))\n",
        "    SRCNN.add(Conv2D(filters=64, kernel_size=(5,5), kernel_initializer='glorot_uniform',\n",
        "                     activation='relu', padding='same', use_bias=True))\n",
        "    SRCNN.add(Conv2D(filters=64, kernel_size=(5,5), kernel_initializer='glorot_uniform',\n",
        "                     activation='relu', padding='same', use_bias=True))\n",
        "    SRCNN.add(Conv2D(filters=64, kernel_size=(1,1), kernel_initializer='glorot_uniform',\n",
        "                     activation='relu', padding='same', use_bias=True))\n",
        "    SRCNN.add(Conv2D(filters=1, kernel_size=(5,5), kernel_initializer='glorot_uniform',\n",
        "                     activation='linear', padding='valid', use_bias=True))\n",
        "    adam = Adam(lr=0.0003)\n",
        "    SRCNN.compile(optimizer=adam, loss='mean_squared_error', metrics=['accuracy'])\n",
        "    return SRCNN\n"
      ]
    },
    {
      "cell_type": "code",
      "execution_count": null,
      "metadata": {
        "id": "oG8jSl27VxCp"
      },
      "outputs": [],
      "source": [
        "# prelu\n",
        "def predict_model():\n",
        "    # lrelu = LeakyReLU(alpha=0.1)\n",
        "    SRCNN = Sequential()\n",
        "    SRCNN.add(Conv2D(filters=128, kernel_size=(9,9), kernel_initializer='glorot_uniform', padding='valid', use_bias=True, input_shape=(None, None, 1)))\n",
        "    SRCNN.add(PReLU())\n",
        "    SRCNN.add(Conv2D(filters=64, kernel_size=(3,3), kernel_initializer='glorot_uniform', padding='same', use_bias=True))\n",
        "    SRCNN.add(PReLU())\n",
        "    SRCNN.add(Conv2D(filters=1, kernel_size=(5,5), kernel_initializer='glorot_uniform',padding='valid', use_bias=True))\n",
        "    SRCNN.add(PReLU())\n",
        "    adam = Adam(lr=0.0003)\n",
        "    SRCNN.compile(optimizer=adam, loss='mean_squared_error', metrics=['accuracy'])\n",
        "    return SRCNN"
      ]
    },
    {
      "cell_type": "code",
      "execution_count": null,
      "metadata": {
        "id": "5RrtFXJbQZ9K"
      },
      "outputs": [],
      "source": [
        "def train():\n",
        "    srcnn_model = model()\n",
        "    print(srcnn_model.summary())\n",
        "    data, label = read_training_data(\"/content/drive/MyDrive/MyColab/crop_train2.h5\")\n",
        "    val_data, val_label = read_training_data(\"/content/drive/MyDrive/MyColab/test2.h5\")\n",
        "\n",
        "    checkpoint = ModelCheckpoint(\"/content/drive/MyDrive/MyColab/SRCNN_check3.h5\", monitor='val_loss', verbose=1, save_best_only=True,\n",
        "                                 save_weights_only=False, mode='min')\n",
        "    callbacks_list = [checkpoint]\n",
        "\n",
        "    train_history = srcnn_model.fit(data, label, batch_size=128, validation_data=(val_data, val_label),\n",
        "                    callbacks=callbacks_list, shuffle=True, epochs=10, verbose=0)\n",
        "    return train_history\n",
        "    # srcnn_model.load_weights(\"m_model_adam.h5\")\n"
      ]
    },
    {
      "cell_type": "code",
      "execution_count": null,
      "metadata": {
        "id": "DgsTk5MiQa3P"
      },
      "outputs": [],
      "source": [
        "def predict():\n",
        "    srcnn_model = predict_model()\n",
        "    srcnn_model.load_weights(\"/content/drive/MyDrive/MyColab/SRCNN_check3.h5\")\n",
        "    IMG_NAME = \"/content/drive/MyDrive/MyColab/faces.jpeg\"\n",
        "    INPUT_NAME = \"/content/drive/MyDrive/MyColab/inputF.jpg\"\n",
        "    OUTPUT_NAME = \"/content/drive/MyDrive/MyColab/outputF.jpg\"\n",
        "\n",
        "    import cv2\n",
        "    img = cv2.imread(IMG_NAME, cv2.IMREAD_COLOR)\n",
        "    img = cv2.cvtColor(img, cv2.COLOR_BGR2YCrCb)\n",
        "    shape = img.shape\n",
        "    Y_img = cv2.resize(img[:, :, 0], (int(shape[1] / 2), int(shape[0] / 2)), cv2.INTER_CUBIC)\n",
        "    Y_img = cv2.resize(Y_img, (shape[1], shape[0]), cv2.INTER_CUBIC)\n",
        "    img[:, :, 0] = Y_img\n",
        "    img = cv2.cvtColor(img, cv2.COLOR_YCrCb2BGR)\n",
        "    cv2.imwrite(INPUT_NAME, img)\n",
        "\n",
        "    Y = numpy.zeros((1, img.shape[0], img.shape[1], 1), dtype=float)\n",
        "    Y[0, :, :, 0] = Y_img.astype(float) / 255.\n",
        "    pre = srcnn_model.predict(Y, batch_size=1) * 255.\n",
        "    pre[pre[:] > 255] = 255\n",
        "    pre[pre[:] < 0] = 0\n",
        "    pre = pre.astype(numpy.uint8)\n",
        "    img = cv2.cvtColor(img, cv2.COLOR_BGR2YCrCb)\n",
        "    img[6: -6, 6: -6, 0] = pre[0, :, :, 0]\n",
        "    img = cv2.cvtColor(img, cv2.COLOR_YCrCb2BGR)\n",
        "    cv2.imwrite(OUTPUT_NAME, img)\n",
        "\n",
        "    # psnr calculation:\n",
        "    im1 = cv2.imread(IMG_NAME, cv2.IMREAD_COLOR)\n",
        "    im1 = cv2.cvtColor(im1, cv2.COLOR_BGR2YCrCb)[6: -6, 6: -6, 0]\n",
        "    im2 = cv2.imread(INPUT_NAME, cv2.IMREAD_COLOR)\n",
        "    im2 = cv2.cvtColor(im2, cv2.COLOR_BGR2YCrCb)[6: -6, 6: -6, 0]\n",
        "    im3 = cv2.imread(OUTPUT_NAME, cv2.IMREAD_COLOR)\n",
        "    im3 = cv2.cvtColor(im3, cv2.COLOR_BGR2YCrCb)[6: -6, 6: -6, 0]\n",
        "\n",
        "    print (\"bicubic:\")\n",
        "    print (cv2.PSNR(im1, im2))\n",
        "    print (\"bicubic:\")\n",
        "    print (cv2.PSNR(im1, im2))\n",
        "    print (\"SRCNN:\")\n",
        "    print (cv2.PSNR(im1, im3))"
      ]
    },
    {
      "cell_type": "code",
      "execution_count": null,
      "metadata": {
        "colab": {
          "base_uri": "https://localhost:8080/",
          "height": 1000
        },
        "id": "OO89lrpVQjrb",
        "outputId": "24913abd-04d8-485d-f6fe-613cffbcbd08"
      },
      "outputs": [
        {
          "name": "stdout",
          "output_type": "stream",
          "text": [
            "Model: \"sequential_5\"\n",
            "_________________________________________________________________\n",
            " Layer (type)                Output Shape              Param #   \n",
            "=================================================================\n",
            " conv2d_16 (Conv2D)          (None, 24, 24, 128)       10496     \n",
            "                                                                 \n",
            " conv2d_17 (Conv2D)          (None, 24, 24, 64)        204864    \n",
            "                                                                 \n",
            " conv2d_18 (Conv2D)          (None, 24, 24, 64)        102464    \n",
            "                                                                 \n",
            " conv2d_19 (Conv2D)          (None, 24, 24, 64)        102464    \n",
            "                                                                 \n",
            " conv2d_20 (Conv2D)          (None, 24, 24, 64)        4160      \n",
            "                                                                 \n",
            " conv2d_21 (Conv2D)          (None, 20, 20, 1)         1601      \n",
            "                                                                 \n",
            "=================================================================\n",
            "Total params: 426,049\n",
            "Trainable params: 426,049\n",
            "Non-trainable params: 0\n",
            "_________________________________________________________________\n"
          ]
        },
        {
          "name": "stderr",
          "output_type": "stream",
          "text": [
            "/usr/local/lib/python3.7/dist-packages/keras/optimizer_v2/adam.py:105: UserWarning: The `lr` argument is deprecated, use `learning_rate` instead.\n",
            "  super(Adam, self).__init__(name, **kwargs)\n"
          ]
        },
        {
          "name": "stdout",
          "output_type": "stream",
          "text": [
            "None\n",
            "\n",
            "Epoch 1: val_loss improved from inf to 0.00260, saving model to /content/drive/MyDrive/MyColab/SRCNN_check3.h5\n",
            "\n",
            "Epoch 2: val_loss improved from 0.00260 to 0.00247, saving model to /content/drive/MyDrive/MyColab/SRCNN_check3.h5\n",
            "\n",
            "Epoch 3: val_loss improved from 0.00247 to 0.00242, saving model to /content/drive/MyDrive/MyColab/SRCNN_check3.h5\n",
            "\n",
            "Epoch 4: val_loss improved from 0.00242 to 0.00239, saving model to /content/drive/MyDrive/MyColab/SRCNN_check3.h5\n",
            "\n",
            "Epoch 5: val_loss improved from 0.00239 to 0.00236, saving model to /content/drive/MyDrive/MyColab/SRCNN_check3.h5\n",
            "\n",
            "Epoch 6: val_loss improved from 0.00236 to 0.00235, saving model to /content/drive/MyDrive/MyColab/SRCNN_check3.h5\n",
            "\n",
            "Epoch 7: val_loss did not improve from 0.00235\n",
            "\n",
            "Epoch 8: val_loss did not improve from 0.00235\n",
            "\n",
            "Epoch 9: val_loss improved from 0.00235 to 0.00233, saving model to /content/drive/MyDrive/MyColab/SRCNN_check3.h5\n",
            "\n",
            "Epoch 10: val_loss improved from 0.00233 to 0.00232, saving model to /content/drive/MyDrive/MyColab/SRCNN_check3.h5\n"
          ]
        },
        {
          "ename": "ValueError",
          "evalue": "ignored",
          "output_type": "error",
          "traceback": [
            "\u001b[0;31m---------------------------------------------------------------------------\u001b[0m",
            "\u001b[0;31mValueError\u001b[0m                                Traceback (most recent call last)",
            "\u001b[0;32m<ipython-input-19-d4466d6a2462>\u001b[0m in \u001b[0;36m<module>\u001b[0;34m()\u001b[0m\n\u001b[1;32m      1\u001b[0m \u001b[0;31m######################## Train and Predict ##############################\u001b[0m\u001b[0;34m\u001b[0m\u001b[0;34m\u001b[0m\u001b[0;34m\u001b[0m\u001b[0m\n\u001b[1;32m      2\u001b[0m \u001b[0mhistory\u001b[0m \u001b[0;34m=\u001b[0m \u001b[0mtrain\u001b[0m\u001b[0;34m(\u001b[0m\u001b[0;34m)\u001b[0m\u001b[0;34m\u001b[0m\u001b[0;34m\u001b[0m\u001b[0m\n\u001b[0;32m----> 3\u001b[0;31m \u001b[0mpredict\u001b[0m\u001b[0;34m(\u001b[0m\u001b[0;34m)\u001b[0m\u001b[0;34m\u001b[0m\u001b[0;34m\u001b[0m\u001b[0m\n\u001b[0m",
            "\u001b[0;32m<ipython-input-8-f3c94cf1c933>\u001b[0m in \u001b[0;36mpredict\u001b[0;34m()\u001b[0m\n\u001b[1;32m      1\u001b[0m \u001b[0;32mdef\u001b[0m \u001b[0mpredict\u001b[0m\u001b[0;34m(\u001b[0m\u001b[0;34m)\u001b[0m\u001b[0;34m:\u001b[0m\u001b[0;34m\u001b[0m\u001b[0;34m\u001b[0m\u001b[0m\n\u001b[1;32m      2\u001b[0m     \u001b[0msrcnn_model\u001b[0m \u001b[0;34m=\u001b[0m \u001b[0mpredict_model\u001b[0m\u001b[0;34m(\u001b[0m\u001b[0;34m)\u001b[0m\u001b[0;34m\u001b[0m\u001b[0;34m\u001b[0m\u001b[0m\n\u001b[0;32m----> 3\u001b[0;31m     \u001b[0msrcnn_model\u001b[0m\u001b[0;34m.\u001b[0m\u001b[0mload_weights\u001b[0m\u001b[0;34m(\u001b[0m\u001b[0;34m\"/content/drive/MyDrive/MyColab/SRCNN_check2.h5\"\u001b[0m\u001b[0;34m)\u001b[0m\u001b[0;34m\u001b[0m\u001b[0;34m\u001b[0m\u001b[0m\n\u001b[0m\u001b[1;32m      4\u001b[0m     \u001b[0mIMG_NAME\u001b[0m \u001b[0;34m=\u001b[0m \u001b[0;34m\"/content/drive/MyDrive/MyColab/butterfly_GT.bmp\"\u001b[0m\u001b[0;34m\u001b[0m\u001b[0;34m\u001b[0m\u001b[0m\n\u001b[1;32m      5\u001b[0m     \u001b[0mINPUT_NAME\u001b[0m \u001b[0;34m=\u001b[0m \u001b[0;34m\"/content/drive/MyDrive/MyColab/input.jpg\"\u001b[0m\u001b[0;34m\u001b[0m\u001b[0;34m\u001b[0m\u001b[0m\n",
            "\u001b[0;32m/usr/local/lib/python3.7/dist-packages/keras/utils/traceback_utils.py\u001b[0m in \u001b[0;36merror_handler\u001b[0;34m(*args, **kwargs)\u001b[0m\n\u001b[1;32m     65\u001b[0m     \u001b[0;32mexcept\u001b[0m \u001b[0mException\u001b[0m \u001b[0;32mas\u001b[0m \u001b[0me\u001b[0m\u001b[0;34m:\u001b[0m  \u001b[0;31m# pylint: disable=broad-except\u001b[0m\u001b[0;34m\u001b[0m\u001b[0;34m\u001b[0m\u001b[0m\n\u001b[1;32m     66\u001b[0m       \u001b[0mfiltered_tb\u001b[0m \u001b[0;34m=\u001b[0m \u001b[0m_process_traceback_frames\u001b[0m\u001b[0;34m(\u001b[0m\u001b[0me\u001b[0m\u001b[0;34m.\u001b[0m\u001b[0m__traceback__\u001b[0m\u001b[0;34m)\u001b[0m\u001b[0;34m\u001b[0m\u001b[0;34m\u001b[0m\u001b[0m\n\u001b[0;32m---> 67\u001b[0;31m       \u001b[0;32mraise\u001b[0m \u001b[0me\u001b[0m\u001b[0;34m.\u001b[0m\u001b[0mwith_traceback\u001b[0m\u001b[0;34m(\u001b[0m\u001b[0mfiltered_tb\u001b[0m\u001b[0;34m)\u001b[0m \u001b[0;32mfrom\u001b[0m \u001b[0;32mNone\u001b[0m\u001b[0;34m\u001b[0m\u001b[0;34m\u001b[0m\u001b[0m\n\u001b[0m\u001b[1;32m     68\u001b[0m     \u001b[0;32mfinally\u001b[0m\u001b[0;34m:\u001b[0m\u001b[0;34m\u001b[0m\u001b[0;34m\u001b[0m\u001b[0m\n\u001b[1;32m     69\u001b[0m       \u001b[0;32mdel\u001b[0m \u001b[0mfiltered_tb\u001b[0m\u001b[0;34m\u001b[0m\u001b[0;34m\u001b[0m\u001b[0m\n",
            "\u001b[0;32m/usr/local/lib/python3.7/dist-packages/keras/backend.py\u001b[0m in \u001b[0;36mbatch_set_value\u001b[0;34m(tuples)\u001b[0m\n\u001b[1;32m   4017\u001b[0m   \u001b[0;32mif\u001b[0m \u001b[0mtf\u001b[0m\u001b[0;34m.\u001b[0m\u001b[0mcompat\u001b[0m\u001b[0;34m.\u001b[0m\u001b[0mv1\u001b[0m\u001b[0;34m.\u001b[0m\u001b[0mexecuting_eagerly_outside_functions\u001b[0m\u001b[0;34m(\u001b[0m\u001b[0;34m)\u001b[0m\u001b[0;34m:\u001b[0m\u001b[0;34m\u001b[0m\u001b[0;34m\u001b[0m\u001b[0m\n\u001b[1;32m   4018\u001b[0m     \u001b[0;32mfor\u001b[0m \u001b[0mx\u001b[0m\u001b[0;34m,\u001b[0m \u001b[0mvalue\u001b[0m \u001b[0;32min\u001b[0m \u001b[0mtuples\u001b[0m\u001b[0;34m:\u001b[0m\u001b[0;34m\u001b[0m\u001b[0;34m\u001b[0m\u001b[0m\n\u001b[0;32m-> 4019\u001b[0;31m       \u001b[0mx\u001b[0m\u001b[0;34m.\u001b[0m\u001b[0massign\u001b[0m\u001b[0;34m(\u001b[0m\u001b[0mnp\u001b[0m\u001b[0;34m.\u001b[0m\u001b[0masarray\u001b[0m\u001b[0;34m(\u001b[0m\u001b[0mvalue\u001b[0m\u001b[0;34m,\u001b[0m \u001b[0mdtype\u001b[0m\u001b[0;34m=\u001b[0m\u001b[0mdtype_numpy\u001b[0m\u001b[0;34m(\u001b[0m\u001b[0mx\u001b[0m\u001b[0;34m)\u001b[0m\u001b[0;34m)\u001b[0m\u001b[0;34m)\u001b[0m\u001b[0;34m\u001b[0m\u001b[0;34m\u001b[0m\u001b[0m\n\u001b[0m\u001b[1;32m   4020\u001b[0m   \u001b[0;32melse\u001b[0m\u001b[0;34m:\u001b[0m\u001b[0;34m\u001b[0m\u001b[0;34m\u001b[0m\u001b[0m\n\u001b[1;32m   4021\u001b[0m     \u001b[0;32mwith\u001b[0m \u001b[0mget_graph\u001b[0m\u001b[0;34m(\u001b[0m\u001b[0;34m)\u001b[0m\u001b[0;34m.\u001b[0m\u001b[0mas_default\u001b[0m\u001b[0;34m(\u001b[0m\u001b[0;34m)\u001b[0m\u001b[0;34m:\u001b[0m\u001b[0;34m\u001b[0m\u001b[0;34m\u001b[0m\u001b[0m\n",
            "\u001b[0;31mValueError\u001b[0m: Cannot assign value to variable ' conv2d_23/kernel:0': Shape mismatch.The variable shape (5, 5, 128, 64), and the assigned value shape (64, 128, 3, 3) are incompatible."
          ]
        }
      ],
      "source": [
        "######################## Train and Predict ##############################\n",
        "history = train()\n",
        "predict()"
      ]
    },
    {
      "cell_type": "code",
      "execution_count": null,
      "metadata": {
        "colab": {
          "base_uri": "https://localhost:8080/"
        },
        "id": "c7Zx74j_mELd",
        "outputId": "dc3fd354-2e5b-4b73-8bd7-a1d0b0a22881"
      },
      "outputs": [
        {
          "name": "stderr",
          "output_type": "stream",
          "text": [
            "/usr/local/lib/python3.7/dist-packages/keras/optimizer_v2/adam.py:105: UserWarning: The `lr` argument is deprecated, use `learning_rate` instead.\n",
            "  super(Adam, self).__init__(name, **kwargs)\n"
          ]
        },
        {
          "name": "stdout",
          "output_type": "stream",
          "text": [
            "bicubic:\n",
            "36.63356570402663\n",
            "SRCNN:\n",
            "38.73972635796805\n"
          ]
        }
      ],
      "source": [
        "predict()"
      ]
    },
    {
      "cell_type": "code",
      "execution_count": null,
      "metadata": {
        "colab": {
          "base_uri": "https://localhost:8080/",
          "height": 840
        },
        "id": "ROeTpg0uWK9q",
        "outputId": "6c1789e2-51da-41f1-ea85-2d668c88bb20"
      },
      "outputs": [
        {
          "name": "stdout",
          "output_type": "stream",
          "text": [
            "dict_keys(['loss', 'accuracy', 'val_loss', 'val_accuracy'])\n"
          ]
        },
        {
          "data": {
            "text/plain": [
              "Text(0.5, 1.0, 'Accuracy Curves')"
            ]
          },
          "execution_count": 20,
          "metadata": {},
          "output_type": "execute_result"
        },
        {
          "data": {
            "image/png": "[encoded data removed]",
            "text/plain": [
              "<Figure size 576x432 with 1 Axes>"
            ]
          },
          "metadata": {
            "needs_background": "light"
          },
          "output_type": "display_data"
        },
        {
          "data": {
            "image/png": "[encoded data removed]",
            "text/plain": [
              "<Figure size 576x432 with 1 Axes>"
            ]
          },
          "metadata": {
            "needs_background": "light"
          },
          "output_type": "display_data"
        }
      ],
      "source": [
        "print(history.history.keys())\n",
        "\n",
        "#Plot the Loss Curves\n",
        "plt.figure(figsize=[8,6])\n",
        "plt.plot(history.history['loss'],'r',linewidth=3.0)\n",
        "plt.plot(history.history['val_loss'],'b',linewidth=3.0)\n",
        "plt.legend(['Training loss', 'Validation Loss'],fontsize=18)\n",
        "plt.xlabel('Epochs ',fontsize=16)\n",
        "plt.ylabel('Loss',fontsize=16)\n",
        "plt.title('Loss Curves',fontsize=16)\n",
        "\n",
        "\n",
        "#Plot the Accuracy Curves\n",
        "plt.figure(figsize=[8,6]) \n",
        "plt.plot(history.history[\"accuracy\"],'r',linewidth=3.0) \n",
        "plt.plot(history.history['val_accuracy'],'b',linewidth=3.0) \n",
        "plt.legend(['Training Accuracy', 'Validation Accuracy'],fontsize=18) \n",
        "plt.xlabel('Epochs ',fontsize=16) \n",
        "plt.ylabel('Accuracy',fontsize=16)\n",
        "plt.title('Accuracy Curves',fontsize=16)"
      ]
    }
  ],
  "metadata": {
    "colab": {
      "collapsed_sections": [],
      "machine_shape": "hm",
      "provenance": []
    },
    "gpuClass": "standard",
    "kernelspec": {
      "display_name": "Python 3",
      "name": "python3"
    },
    "language_info": {
      "name": "python"
    }
  },
  "nbformat": 4,
  "nbformat_minor": 0
}
